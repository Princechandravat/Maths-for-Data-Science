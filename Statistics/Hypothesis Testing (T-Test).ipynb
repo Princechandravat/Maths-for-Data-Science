{
 "cells": [
  {
   "cell_type": "code",
   "execution_count": 1,
   "id": "97ccddf3-f7b1-4f89-b5bb-a5ed159ff90c",
   "metadata": {},
   "outputs": [],
   "source": [
    "import numpy as np\n",
    "import pandas as pd\n",
    "import matplotlib.pyplot as plt\n",
    "import seaborn as sns\n",
    "from scipy import stats\n",
    "from scipy.stats import norm\n",
    "from scipy.stats import t\n",
    "from scipy.stats import ttest_ind\n",
    "from scipy.stats import ttest_rel\n",
    "from scipy.stats import ttest_1samp"
   ]
  },
  {
   "cell_type": "markdown",
   "id": "48fad5ec-a43d-45fa-a800-1c4f97c1ea88",
   "metadata": {},
   "source": [
    "# T-Testing-"
   ]
  },
  {
   "cell_type": "markdown",
   "id": "5f95cdf9-595d-4056-97a2-2a6b62c76d7f",
   "metadata": {},
   "source": [
    "## 📌 One-Sample T-Test Question\n",
    "\n",
    "A nutritionist claims that the average sodium content in a brand of soup is 500 mg per serving. \n",
    "\n",
    "To verify this, a random sample of 10 servings is tested, and the sodium content (in mg) is recorded as:\n",
    "\n",
    "510, 495, 505, 498, 502, 507, 499, 503, 496, 500"
   ]
  },
  {
   "cell_type": "code",
   "execution_count": 2,
   "id": "8c5e3e87-6464-4247-b6f5-c416db3fc5d7",
   "metadata": {},
   "outputs": [
    {
     "name": "stdout",
     "output_type": "stream",
     "text": [
      "T-test: 0.5671049640066849\n",
      "p_value: 0.5861989854908539\n",
      "H0: Accept null hypothesis\n"
     ]
    }
   ],
   "source": [
    "data = np.array([510,495,505,498,502,499,503,496,500])\n",
    "mu = 500\n",
    "\n",
    "# one-sample T-test-\n",
    "t_test,p_value = stats.ttest_1samp(data, mu)\n",
    "\n",
    "print(f'T-test: {t_test}')\n",
    "print(f'p_value: {p_value}')\n",
    "\n",
    "# decision-\n",
    "alpha = 0.05\n",
    "\n",
    "if p_value < alpha :\n",
    "    print('H0: Reject null hypothesis')\n",
    "else:\n",
    "    print('H0: Accept null hypothesis')"
   ]
  },
  {
   "cell_type": "markdown",
   "id": "c63e8473-27d2-4a29-9c74-b16a4c2e26c3",
   "metadata": {},
   "source": [
    "## Titanic Datset-\n",
    " \n",
    " We’ll compare the average Age of survivors vs. non-survivors using an independent two-sample t-test (because the groups are different)."
   ]
  },
  {
   "cell_type": "code",
   "execution_count": 3,
   "id": "dcdf0da4-0d4c-4bfa-95c3-245b6d663648",
   "metadata": {},
   "outputs": [
    {
     "name": "stdout",
     "output_type": "stream",
     "text": [
      "T-statistic: -2.046\n",
      "P-value: 0.041\n",
      "Reject H0: There is a significant difference in mean Age between survivors and non-survivors\n",
      "--------------------------------------------------------------------------------------------------------\n",
      "Average age of survived passengers on titanic : 28.343689655172415\n",
      "Average age of not survived passengers on titanic : 30.62617924528302\n"
     ]
    }
   ],
   "source": [
    "titanic = sns.load_dataset('titanic')\n",
    "\n",
    "# Drop missing ages\n",
    "titanic = titanic.dropna(subset=['age'])\n",
    "\n",
    "# Split ages into survivors and non-survivors-\n",
    "age_survived = titanic[titanic['survived'] == 1]['age']\n",
    "age_not_survived = titanic[titanic['survived'] == 0]['age']\n",
    "\n",
    "# Perform independent two-sample t-test-\n",
    "t_stat, p_value = stats.ttest_ind(age_survived, age_not_survived, equal_var=False) \n",
    "\n",
    "print(f\"T-statistic: {t_stat:.3f}\")\n",
    "print(f\"P-value: {p_value:.3f}\")\n",
    "\n",
    "# Decision\n",
    "alpha = 0.05\n",
    "if p_value < alpha:\n",
    "    print(\"Reject H0: There is a significant difference in mean Age between survivors and non-survivors\")\n",
    "else:\n",
    "    print(\"Fail to reject H0: No significant difference in mean Age between survivors and non-survivors\")\n",
    "print('--------------------------------------------------------------------------------------------------------')\n",
    "print(f'Average age of survived passengers on titanic : {np.mean(age_survived)}')\n",
    "print(f'Average age of not survived passengers on titanic : {np.mean(age_not_survived)}')"
   ]
  },
  {
   "cell_type": "markdown",
   "id": "8f702fd9-65d5-4499-943c-5413a140ac08",
   "metadata": {},
   "source": [
    "## Question 1-\n",
    "\n",
    "Testing Average Study Time\n",
    "A university claims that its students study an average of 15 hours per week. A random sample of 25 students has a mean study time of 14.2 hours with a sample standard deviation of 2.8 hours. At a 5% significance level, is there sufficient evidence to reject the university’s claim?\n"
   ]
  },
  {
   "cell_type": "code",
   "execution_count": 4,
   "id": "e15ac4ab-9480-44f1-962f-c1e5c401cfe6",
   "metadata": {},
   "outputs": [
    {
     "name": "stdout",
     "output_type": "stream",
     "text": [
      "Standard error: 0.5599999999999999\n",
      "T test: -1.42857142857143\n",
      "P-value: 0.16601358583680859\n",
      "Fail to reject null hypothesis\n"
     ]
    }
   ],
   "source": [
    "# Given values\n",
    "mu = 15\n",
    "mean = 14.2\n",
    "s = 2.8\n",
    "alpha = 0.05\n",
    "n = 25\n",
    "\n",
    "# Standard error\n",
    "se = s / np.sqrt(n)\n",
    "print(f'Standard error: {se}')\n",
    "\n",
    "# T-test\n",
    "t_stat = (mean - mu) / se\n",
    "print(f'T test: {t_stat}')\n",
    "\n",
    "# P-value (two-tailed)-\n",
    "p_value = 2 * (1 - stats.t.cdf(abs(t_stat), df=n-1))\n",
    "print(f'P-value: {p_value}')\n",
    "\n",
    "# Decision\n",
    "if p_value < alpha:\n",
    "    print('Reject null hypothesis')\n",
    "else:\n",
    "    print('Fail to reject null hypothesis')"
   ]
  },
  {
   "cell_type": "markdown",
   "id": "e6a14388-954e-426c-9b41-b7f03f2925c3",
   "metadata": {},
   "source": [
    "## Question 2-\n",
    "\n",
    "A company claims that its juice bottles contain 500 ml on average.\n",
    "A sample of 20 bottles has an average volume of 495 ml with a standard deviation of 10 ml. \n",
    "Is there evidence at a 5% significance level (α = 0.05) that the average volume differs from 500 ml?\n"
   ]
  },
  {
   "cell_type": "code",
   "execution_count": 5,
   "id": "4dff125f-49af-4cc9-8f0b-794b55a1b195",
   "metadata": {},
   "outputs": [
    {
     "name": "stdout",
     "output_type": "stream",
     "text": [
      "standard error : 2.23606797749979\n",
      "T-Test : -2.23606797749979\n",
      "Degre of freedom : 19\n",
      "P-Value: 0.03754054954852504\n",
      "Reject null hypothesis (H0)\n"
     ]
    }
   ],
   "source": [
    "mu = 500\n",
    "mean = 495\n",
    "std = 10\n",
    "alpha = 0.05\n",
    "n = 20\n",
    "\n",
    "# standard_error-\n",
    "standard_error = std/np.sqrt(n)\n",
    "print(f'standard error : {standard_error}')\n",
    "\n",
    "# t test-\n",
    "t = (mean - mu)/standard_error\n",
    "print(f'T-Test : {t}')\n",
    "\n",
    "# degree of freedom-\n",
    "dof = n-1\n",
    "print(f'Degre of freedom : {dof}')\n",
    "\n",
    "# P Value-\n",
    "p_value = 2*(1-stats.t.cdf(abs(t),df = dof))\n",
    "print(f'P-Value: {p_value}')\n",
    "\n",
    "if p_value< alpha:\n",
    "    print('Reject null hypothesis (H0)')\n",
    "else:\n",
    "    print('Fail to reject null hypothesis')"
   ]
  },
  {
   "cell_type": "markdown",
   "id": "a0a6467d-97e1-42d3-8422-6e5a7c49248d",
   "metadata": {},
   "source": [
    "## Question 3-\n",
    "\n",
    "A school expects its average exam score to be 75.\n",
    "A sample of 25 students using a new teaching method has an average score of 78 with a standard deviation of 5.\n",
    "Is there evidence at α = 0.05 that the new teaching method improves scores?"
   ]
  },
  {
   "cell_type": "code",
   "execution_count": 6,
   "id": "10c9bed6-aaba-45a0-a2ed-495ea3a25d4b",
   "metadata": {},
   "outputs": [
    {
     "name": "stdout",
     "output_type": "stream",
     "text": [
      "standard_error :1.0\n",
      "T Test : 3.0\n",
      "P_value :0.003102868308262341\n",
      "Reject null hypothesis H0\n"
     ]
    }
   ],
   "source": [
    "mean = 78\n",
    "mu = 75\n",
    "n = 25\n",
    "std = 5\n",
    "alpha = 0.05\n",
    "dof = n-1\n",
    "# standard_error-\n",
    "SE = std/np.sqrt(n)\n",
    "print(f'standard_error :{SE}')\n",
    "\n",
    "# t-test-\n",
    "t_test = (mean - mu )/SE\n",
    "print(f'T Test : {t_test}')\n",
    "\n",
    "# P value-\n",
    "p_value = (1-stats.t.cdf(abs(t_test),df = dof))\n",
    "print(f'P_value :{p_value}')\n",
    "\n",
    "# Decision-\n",
    "if p_value < alpha :\n",
    "    print(f'Reject null hypothesis H0')\n",
    "else:\n",
    "    print(f'Fail to Reject null hypothesis H0')"
   ]
  },
  {
   "cell_type": "markdown",
   "id": "57f70052-f496-4911-90ff-0458d46a5fde",
   "metadata": {},
   "source": [
    "## On Titanic Dataset-"
   ]
  },
  {
   "cell_type": "code",
   "execution_count": 7,
   "id": "50736e43-34aa-4415-b829-cb2d19bb308c",
   "metadata": {},
   "outputs": [
    {
     "name": "stdout",
     "output_type": "stream",
     "text": [
      "T-test :-9.750712756513316\n",
      "P-Value :3.590209195469345e-21\n",
      "Reject Null Hypothesis H0\n"
     ]
    },
    {
     "data": {
      "text/plain": [
       "np.float64(29.69911764705882)"
      ]
     },
     "execution_count": 7,
     "metadata": {},
     "output_type": "execute_result"
    }
   ],
   "source": [
    "titanic = sns.load_dataset('titanic')\n",
    "sample_age = titanic['age']\n",
    "sample_age = sample_age.dropna()\n",
    "alpha = 0.05\n",
    "mean = 35\n",
    "sample_age\n",
    "\n",
    "t_test,p_value = stats.ttest_1samp(sample_age,mean)\n",
    "\n",
    "print(f'T-test :{t_test}')\n",
    "print(f'P-Value :{p_value}')\n",
    "\n",
    "# decision-\n",
    "if p_value < alpha:\n",
    "    print('Reject Null Hypothesis H0')\n",
    "else:\n",
    "    print('Fail to reject null Hypothesis H0')\n",
    "    \n",
    "sample_age.mean()"
   ]
  },
  {
   "cell_type": "markdown",
   "id": "9b69f918-f23a-4d1a-b84f-2125bace343a",
   "metadata": {},
   "source": [
    "## Question 4-\n",
    "\n",
    "One-Sample t-test: A company claims that their new energy drink increases reaction time by at least 0.1 seconds compared to a standard benchmark of 0.5 seconds. A sample of 20 volunteers who consumed the drink has a mean reaction time of 0.58 seconds with a standard deviation of 0.09 seconds. Conduct a one-sample t-test to determine if the company’s claim is supported at a 5% significance level. Specify the null and alternative hypotheses and the conclusion."
   ]
  },
  {
   "cell_type": "code",
   "execution_count": 8,
   "id": "8f64c136-5dd6-4480-8a5d-f71eca6cf3ce",
   "metadata": {},
   "outputs": [
    {
     "name": "stdout",
     "output_type": "stream",
     "text": [
      "standard_error: 0.020124611797498106\n",
      "T_Test : -0.9938079899999075\n",
      "P_Value : 0.16640262865501088\n",
      "Fail to reject Null hypothesis\n"
     ]
    }
   ],
   "source": [
    "mu = 0.6\n",
    "mean = 0.58\n",
    "n = 20\n",
    "std = 0.09\n",
    "alpha = 0.05\n",
    "dof = n-1\n",
    "# standard error-\n",
    "se = std/np.sqrt(n)\n",
    "print(f'standard_error: {se}')\n",
    "\n",
    "# T-Test-\n",
    "t_test = (mean - mu)/se\n",
    "print(f'T_Test : {t_test}')\n",
    "\n",
    "# p value -\n",
    "p_value = stats.t.cdf(t_test,df=19)\n",
    "print(f'P_Value : {p_value}')\n",
    "\n",
    "# Decision-\n",
    "if p_value < alpha :\n",
    "    print('Reject Null hypothesis')\n",
    "else:\n",
    "    print('Fail to reject Null hypothesis')\n",
    "\n"
   ]
  },
  {
   "cell_type": "markdown",
   "id": "d97287f4-57d8-45ba-b7e2-50c83d022b5c",
   "metadata": {},
   "source": [
    "## 📌 Two sample T-Test Question\n"
   ]
  },
  {
   "cell_type": "markdown",
   "id": "031ef9ca-01c6-47e7-be0d-62c106d78bac",
   "metadata": {},
   "source": [
    "### Question 1-\n",
    "\n",
    "A researcher wants to compare the average test scores of two groups of students (Group A and Group B)\n",
    "who used different study methods. Group A has 25 students with a mean score of 78 and a standard deviation of 10. \n",
    "Group B has 30 students with a mean score of 82 and a standard deviation of 12. \n",
    "Formulate the null and alternative hypotheses,\n",
    "and determine whether there is a significant difference in the mean scores between the two groups at a 5% significance level.\n",
    "Assume equal variances"
   ]
  },
  {
   "cell_type": "code",
   "execution_count": 9,
   "id": "35624f00-58ab-4ce1-b1ff-499223a7e4af",
   "metadata": {},
   "outputs": [
    {
     "name": "stdout",
     "output_type": "stream",
     "text": [
      "T_Test : -1.3260695749411513\n",
      "p_value : 0.19050334294956325\n",
      "Fail to reject null hypothesis\n"
     ]
    }
   ],
   "source": [
    "n_A , n_B = 25,30\n",
    "mean_A , mean_B = 78,82\n",
    "std_A , std_B =10,12\n",
    "alpha = 0.05\n",
    "\n",
    "t_stat, p_value = stats.ttest_ind_from_stats(mean_A,std_A,n_A,mean_B,std_B,n_B,equal_var = True)\n",
    "\n",
    "print(f'T_Test : {t_stat}')\n",
    "print(f'p_value : {p_value}')\n",
    "\n",
    "if p_value<alpha:\n",
    "    print('Reject null hypothesis H0')\n",
    "else:\n",
    "    print('Fail to reject null hypothesis')"
   ]
  },
  {
   "cell_type": "markdown",
   "id": "068eb75e-7891-4e03-a7a0-42bad03dc535",
   "metadata": {},
   "source": [
    "## Q2. Students’ Exam Scores\n",
    "\n",
    "Two classes (Class A and Class B) appeared for the same math exam.\n",
    "\n",
    "Class A scores: [78, 85, 82, 90, 76, 80, 79, 88]\n",
    "\n",
    "Class B scores: [72, 75, 70, 68, 74, 73, 71, 69]\n",
    "\n",
    "👉 Test whether there is a significant difference in average exam scores between the two classes (α = 0.05)."
   ]
  },
  {
   "cell_type": "code",
   "execution_count": 10,
   "id": "909ed9f5-c3b8-4a31-8220-1cc8b28226da",
   "metadata": {},
   "outputs": [
    {
     "name": "stdout",
     "output_type": "stream",
     "text": [
      "Mean of class_A : 82.25\n",
      "Mean of class_B : 71.5\n",
      "standard_deviation of class_A : 4.656984002549289\n",
      "standard_deviation of class_B : 2.29128784747792\n",
      "------------------------------------\n",
      "Shapiro of class_A: ShapiroResult(statistic=np.float64(0.9439549687069316), pvalue=np.float64(0.6503626990409227))\n",
      "Shapiro of class_B: ShapiroResult(statistic=np.float64(0.9748582563729322), pvalue=np.float64(0.933165192106493))\n",
      "--------------------------------------\n",
      "Levene of class A and B: LeveneResult(statistic=np.float64(3.2941176470588234), pvalue=np.float64(0.09100661411304416))\n",
      "T Test : 5.858343248295476\n",
      "P_Value : 4.158138186879166e-05\n",
      "Reject null hypothesis (H0)\n"
     ]
    }
   ],
   "source": [
    "class_A = [78,85,82,90,76,80,79,88]\n",
    "class_B = [72,75,70,68,74,73,71,69]\n",
    "alpha =0.05\n",
    "\n",
    "#length of data-\n",
    "n_A = len(class_A)\n",
    "n_B = len(class_B)\n",
    "\n",
    "# calculating mean-\n",
    "class_A_mean =np.mean(class_A)\n",
    "class_B_mean =np.mean(class_B)\n",
    "\n",
    "print(f'Mean of class_A : {class_A_mean}')\n",
    "print(f'Mean of class_B : {class_B_mean}')\n",
    "\n",
    "# calculating std-\n",
    "class_A_std = np.std(class_A)\n",
    "class_B_std = np.std(class_B)\n",
    "\n",
    "print(f'standard_deviation of class_A : {class_A_std}')\n",
    "print(f'standard_deviation of class_B : {class_B_std}')\n",
    "\n",
    "# checking normality-\n",
    "shapiro_class_A = stats.shapiro(class_A)\n",
    "shapiro_class_B = stats.shapiro(class_B)\n",
    "print('------------------------------------')\n",
    "\n",
    "print(f'Shapiro of class_A: {shapiro_class_A}')\n",
    "print(f'Shapiro of class_B: {shapiro_class_B}')\n",
    "print('--------------------------------------')\n",
    "\n",
    "#checking variance-\n",
    "levene = stats.levene(class_A,class_B)\n",
    "print(f'Levene of class A and B: {levene}')\n",
    "\n",
    "# T Test-\n",
    "t_stat,p_value = stats.ttest_ind_from_stats(class_A_mean,class_A_std,n_A,class_B_mean,class_B_std,n_B)\n",
    "print(f'T Test : {t_stat}')\n",
    "print(f'P_Value : {p_value}')\n",
    "\n",
    "# Decision-\n",
    "if p_value<alpha:\n",
    "    print('Reject null hypothesis (H0)')\n",
    "else:\n",
    "    print('Fail to reject null hypothesis (H1)')"
   ]
  },
  {
   "cell_type": "markdown",
   "id": "f1bf824e-87e0-4a90-ac1c-eae0951e6295",
   "metadata": {},
   "source": [
    "## Q-4: Comparing Conversion Rates for Two Email Marketing Campaigns\n",
    "Context: An e-commerce company tests two email marketing campaigns (A and B) to promote a new product. They measure the conversion rate (proportion of recipients who make a purchase) for 30 email batches sent to independent customer groups.\n",
    "Dataset (Conversion Rates, as decimals):"
   ]
  },
  {
   "cell_type": "code",
   "execution_count": 11,
   "id": "7fa53168-29b4-4f4a-b5ea-6be5f6a3a384",
   "metadata": {},
   "outputs": [
    {
     "name": "stdout",
     "output_type": "stream",
     "text": [
      "mean of Campaign_A : 0.04233333333333334\n",
      "mean of Campaign_B : 0.07333333333333333\n",
      "----------------------------------\n",
      "stadard deviation of Campaign_A :0.011742609969205692\n",
      "stadard deviation of Campaign_B :0.01043498389499902\n",
      "Campaign_A :ShapiroResult(statistic=np.float64(0.9155623583398154), pvalue=np.float64(0.02060813992617794))\n",
      "Campaign_B :ShapiroResult(statistic=np.float64(0.8705348641549422), pvalue=np.float64(0.0017218098341261416))\n",
      "LeveneResult(statistic=np.float64(0.3059788980070357), pvalue=np.float64(0.5822842060141811))\n",
      "T-statistic: 10.627, P-value: 0.000\n",
      "Reject H₀: Campaign B has significantly higher conversion rate.\n"
     ]
    }
   ],
   "source": [
    "# Data -\n",
    "Campaign_A = [0.04, 0.05, 0.03, 0.06, 0.02, 0.04, 0.05, 0.03, 0.04, 0.06, 0.05, 0.03, 0.04, 0.05, 0.02, 0.06, 0.04, 0.03, 0.05, 0.04, 0.03, 0.06, 0.05, 0.04, 0.03, 0.05, 0.04, 0.06, 0.03, 0.05]\n",
    "Campaign_B = [0.07, 0.08, 0.06, 0.09, 0.07, 0.06, 0.08, 0.07, 0.06, 0.09, 0.08, 0.07, 0.06, 0.08, 0.07, 0.09, 0.06, 0.08, 0.07, 0.06, 0.08, 0.09, 0.07, 0.06, 0.08, 0.07, 0.06, 0.09, 0.07, 0.08]\n",
    "\n",
    "# mean-\n",
    "mean_A = np.mean(Campaign_A)\n",
    "mean_B = np.mean(Campaign_B)\n",
    "print(f'mean of Campaign_A : {mean_A}')\n",
    "print(f'mean of Campaign_B : {mean_B}')\n",
    "print('----------------------------------')\n",
    "\n",
    "# std-\n",
    "std_A = np.std(Campaign_A)\n",
    "std_B = np.std(Campaign_B) \n",
    "print(f'stadard deviation of Campaign_A :{std_A}')\n",
    "print(f'stadard deviation of Campaign_B :{std_B}')\n",
    "\n",
    "# length of data-\n",
    "n_A = len(Campaign_A)\n",
    "n_B = len(Campaign_B)\n",
    "\n",
    "#checking normality-\n",
    "shapiro_Campaign_A = stats.shapiro(Campaign_A)\n",
    "shapiro_Campaign_B = stats.shapiro(Campaign_B)\n",
    "print(f'Campaign_A :{shapiro_Campaign_A}')\n",
    "print(f'Campaign_B :{shapiro_Campaign_B}')\n",
    "\n",
    "# checking variance-\n",
    "levene = stats.levene(Campaign_A,Campaign_B)\n",
    "print(levene)\n",
    "\n",
    "# Welch's t-test (unequal variances)\n",
    "t_stat, p_value = ttest_ind(Campaign_B, Campaign_A, equal_var=False, alternative='greater')\n",
    "print(f\"T-statistic: {t_stat:.3f}, P-value: {p_value:.3f}\")\n",
    "\n",
    "# Decision\n",
    "if p_value < 0.05:\n",
    "    print(\"Reject H₀: Campaign B has significantly higher conversion rate.\")\n",
    "else:\n",
    "    print(\"Fail to reject H₀: No significant difference in conversion rates.\")"
   ]
  },
  {
   "cell_type": "markdown",
   "id": "90a14627-f9cc-47ce-8e6c-d2947b838ea6",
   "metadata": {},
   "source": [
    "## Comparing Inference Times of Two ML Models\n",
    "Context: A data science team compares inference times of two machine learning models (XGBoost and Neural Network) for a real-time fraud detection system. They measure inference time (in milliseconds) for 25 transactions each.\n",
    "Dataset (Inference Times, ms):\n",
    "\n",
    "### Question 5:\n",
    "Does XGBoost have a significantly lower mean inference time than the Neural Network at a 1% significance level (α = 0.01)? Assume equal variances.\n",
    "Hypotheses:\n",
    "\n",
    "Null (H₀): Mean inference time (XGBoost) ≥ Mean inference time (Neural Network).\n",
    "Alternative (H₁): Mean inference time (XGBoost) < Mean inference time (Neural Network) (one-tailed)."
   ]
  },
  {
   "cell_type": "code",
   "execution_count": 12,
   "id": "43c40d48-deca-4ba4-8a85-c0ed92cefdab",
   "metadata": {},
   "outputs": [
    {
     "name": "stdout",
     "output_type": "stream",
     "text": [
      "ShapiroResult(statistic=np.float64(0.953342872454118), pvalue=np.float64(0.29779538331453204))\n",
      "ShapiroResult(statistic=np.float64(0.9648642288830608), pvalue=np.float64(0.5195433806108181))\n",
      "LeveneResult(statistic=np.float64(0.138817480719793), pvalue=np.float64(0.7110995677455194))\n",
      "T Test : -38.26754935102762\n",
      "P_Value : 6.345995228961078e-38\n",
      "reject null hypothesis\n"
     ]
    }
   ],
   "source": [
    "XGBoost = [12.1, 11.8, 12.3, 12.0, 11.9, 12.2, 11.7, 12.4, 12.0, 11.8, 12.3, 11.9, 12.1, 12.2, 11.7, 12.0, 11.8, 12.3, 11.9, 12.1, 12.0, 11.8, 12.2, 11.9, 12.0]\n",
    "Neural_Network = [14.2, 14.0, 14.5, 14.1, 13.9, 14.3, 14.0, 14.4, 14.1, 13.8, 14.2, 14.0, 14.3, 14.1, 13.9, 14.2, 14.0, 14.4, 14.1, 13.8, 14.3, 14.0, 14.2, 14.1, 13.9]\n",
    "alpha = 0.01\n",
    "\n",
    "# checking Normality-\n",
    "shapiro_X =stats.shapiro(XGBoost)\n",
    "shapiro_N =stats.shapiro(Neural_Network)\n",
    "print(shapiro_X)\n",
    "print(shapiro_N)\n",
    "\n",
    "# checking variance-\n",
    "levene = stats.levene(XGBoost,Neural_Network)\n",
    "print(levene)\n",
    "\n",
    "# T test-\n",
    "t_test,p = ttest_ind(XGBoost,Neural_Network,equal_var=True,alternative ='less')\n",
    "print(f'T Test : {t_test}')\n",
    "print(f'P_Value : {p}')\n",
    "\n",
    "if p_value < alpha:\n",
    "    print('reject null hypothesis')\n",
    "else:\n",
    "    print('fail to reject null hypothesis')"
   ]
  },
  {
   "cell_type": "markdown",
   "id": "3fc8937e-328d-4ba0-b3ea-78c5242c6785",
   "metadata": {},
   "source": [
    "## Comparing Customer Satisfaction for Two Store Locations\n",
    "Context: A retail chain compares customer satisfaction scores (1–10 scale) between two store locations (Downtown and Suburban) to assess service quality. They collect scores from 20 customers at each location.\n",
    "Dataset (Satisfaction Scores):\n",
    "\n",
    "Downtown: [7, 8, 6, 7, 9, 8, 7, 6, 8, 7, 9, 8, 6, 7, 8, 7, 6, 9, 8, 7]\n",
    "\n",
    "Suburban: [6, 5, 7, 6, 5, 6, 7, 5, 6, 6, 5, 7, 6, 5, 6, 7, 5, 6, 6, 5]\n",
    "\n",
    "### Question 6:\n",
    "Is there a significant difference in mean satisfaction scores between Downtown and Suburban stores at a 5% significance level (α = 0.05)? Assume unequal variances.\n",
    "Hypotheses:\n",
    "\n",
    "Null (H₀): Mean satisfaction score (Downtown) = Mean satisfaction score (Suburban).\n",
    "Alternative (H₁): Mean satisfaction scores differ (two-tailed)."
   ]
  },
  {
   "cell_type": "code",
   "execution_count": 71,
   "id": "e24a5bc3-8218-44a6-8a48-878341310aef",
   "metadata": {},
   "outputs": [
    {
     "name": "stdout",
     "output_type": "stream",
     "text": [
      "shapiro of Downtown : ShapiroResult(statistic=np.float64(0.8881525908925305), pvalue=np.float64(0.024873364362826268))\n",
      "shapiro of Suburban : ShapiroResult(statistic=np.float64(0.8092095568192651), pvalue=np.float64(0.0011891891001692154))\n",
      "LeveneResult(statistic=np.float64(1.6784452296819785), pvalue=np.float64(0.20294620231366808))\n",
      "P_value : 1.081967579351734e-06\n",
      "t_test : 5.5772414154124785\n",
      "Reject null hypothesis\n"
     ]
    }
   ],
   "source": [
    "Downtown = [7, 8, 6, 7, 9, 8, 7, 6, 8, 7, 9, 8, 6, 7, 8, 7, 6, 9, 8, 7]\n",
    "Suburban =[6, 5, 7, 6, 5, 6, 7, 5, 6, 6, 5, 7, 6, 5, 6, 7, 5, 6, 6, 5]\n",
    "alpha = 0.05\n",
    "\n",
    "# mean-\n",
    "Downtown_mean = np.mean(Downtown)\n",
    "Suburban_mean = np.mean(Suburban)\n",
    "\n",
    "# std-\n",
    "Downtown_std = np.std(Downtown)\n",
    "Suburban_std = np.std(Suburban)\n",
    "\n",
    "# checking normality-\n",
    "shapiro_Downtown = stats.shapiro(Downtown)\n",
    "shapiro_Suburban = stats.shapiro(Suburban)\n",
    "print(f'shapiro of Downtown : {shapiro_Downtown}')\n",
    "print(f'shapiro of Suburban : {shapiro_Suburban}')\n",
    "\n",
    "# checking variance--\n",
    "levene = stats.levene(Downtown,Suburban)\n",
    "print(levene)\n",
    "\n",
    "t_test,p_value = ttest_ind(Downtown,Suburban, equal_var =True)\n",
    "print(f'P_value : {p_value/2}')\n",
    "print(f't_test : {t_test}')\n",
    "\n",
    "if p_value < alpha:\n",
    "    print('Reject null hypothesis')\n",
    "else:\n",
    "    print('fail to reject null hypothesis')"
   ]
  },
  {
   "cell_type": "markdown",
   "id": "040be426-5d1f-4bed-8707-9a582c7df128",
   "metadata": {},
   "source": [
    "# Practice Questions-"
   ]
  },
  {
   "cell_type": "markdown",
   "id": "79285efe-cd0f-4bcc-a25e-25e7f702b23a",
   "metadata": {},
   "source": [
    "## 1. Dataset for a Two-Sample T-Test\n",
    "Scenario: A researcher is studying whether a new teaching method improves math test scores for high school students compared to a traditional method. Two groups of students are tested: one using the new method and one using the traditional method.\n",
    "Data:\n",
    "\n",
    "Group A (New Teaching Method): Math test scores (out of 100) for 20 students.\n",
    "\n",
    "78, 82, 85, 88, 76, 90, 92, 81, 84, 87, 79, 83, 86, 89, 91, 80, 77, 85, 88, 90\n",
    "\n",
    "\n",
    "Group B (Traditional Method): Math test scores (out of 100) for 20 students.\n",
    "\n",
    "70, 74, 76, 72, 78, 75, 73, 71, 77, 79, 80, 74, 76, 73, 78, 72, 70, 75, 77, 74\n",
    "\n",
    "\n",
    "Suggested Use:\n",
    "\n",
    "Test: Two-sample t-test (independent samples).\n",
    "Purpose: Compare the mean test scores of the two groups to determine if the new teaching method significantly improves scores.\n",
    "Assumptions: Assume the scores are normally distributed and variances are equal (you can test for equal variances using an F-test if needed).\n",
    "Hypotheses:\n",
    "\n",
    "Null (H₀): The mean scores of the two groups are equal (μ₁ = μ₂).\n",
    "Alternative (H₁): The mean score of the new method is higher (μ₁ > μ₂, one-tailed test)."
   ]
  },
  {
   "cell_type": "code",
   "execution_count": 67,
   "id": "87eee923-9cc9-4b64-a260-c73b40e0cc17",
   "metadata": {},
   "outputs": [
    {
     "name": "stdout",
     "output_type": "stream",
     "text": [
      "mean of Group_A : 84.55\n",
      "mean of Group_B : 74.7\n",
      "standard_deviation of Group_A : 4.893335962521403\n",
      "standard_deviation of Group_B : 2.9217874846167646\n",
      "checking normality : ShapiroResult(statistic=np.float64(0.9572838708392419), pvalue=np.float64(0.49111811682147927))\n",
      "checking normality : ShapiroResult(statistic=np.float64(0.9709916951582578), pvalue=np.float64(0.7756710595310544))\n",
      "Checking Variance : LeveneResult(statistic=np.float64(5.787692307692306), pvalue=np.float64(0.021111583869029546))\n",
      "T-Test : 7.729166486961222\n",
      "P_Value : 2.5938426198335873e-09\n",
      "Reject the nnull hypothesis\n"
     ]
    },
    {
     "data": {
      "image/png": "[encoded data removed]",
      "text/plain": [
       "<Figure size 800x600 with 1 Axes>"
      ]
     },
     "metadata": {},
     "output_type": "display_data"
    }
   ],
   "source": [
    "# Group A & B -\n",
    "Group_A = [78, 82, 85, 88, 76, 90, 92, 81, 84, 87, 79, 83, 86, 89, 91, 80, 77, 85, 88, 90]\n",
    "Group_B = [70, 74, 76, 72, 78, 75, 73, 71, 77, 79, 80, 74, 76, 73, 78, 72, 70, 75, 77, 74]\n",
    "alpha = 0.05\n",
    "# calculating mean -\n",
    "print(f'mean of Group_A : {np.mean(Group_A)}')\n",
    "print(f'mean of Group_B : {np.mean(Group_B)}')\n",
    "\n",
    "# calculating std-\n",
    "print(f'standard_deviation of Group_A : {np.std(Group_A,ddof=1)}')\n",
    "print(f'standard_deviation of Group_B : {np.std(Group_B,ddof=1)}')\n",
    "\n",
    "# checking normality-\n",
    "print(f'checking normality : {stats.shapiro(Group_A)}')\n",
    "print(f'checking normality : {stats.shapiro(Group_B)}')\n",
    "\n",
    "# checking variance-\n",
    "print(f'Checking Variance : {stats.levene(Group_A,Group_B)}')\n",
    "\n",
    "# T-Test-\n",
    "T_test,p_Value = ttest_ind(Group_A,Group_B,equal_var=True,alternative = 'two-sided')\n",
    "print(f'T-Test : {T_test}')\n",
    "print(f'P_Value : {p_Value}')\n",
    "\n",
    "# Decision -\n",
    "if p_Value<alpha:\n",
    "    print('Reject the nnull hypothesis')\n",
    "else:\n",
    "    print('Fail to reject null hypothesis')\n",
    "\n",
    "# Visualization-\n",
    "plt.figure(figsize=(8, 6))\n",
    "sns.boxplot(data=[Group_A, Group_B], palette=[\"lightblue\", \"lightgreen\"])\n",
    "plt.xticks([0, 1], ['New Method', 'Traditional Method'])\n",
    "plt.ylabel('Test Scores')\n",
    "plt.title('Math Test Scores: New vs. Traditional Teaching Method')\n",
    "plt.show()"
   ]
  },
  {
   "cell_type": "markdown",
   "id": "70daa13b-6444-42a4-84a2-c68923feb9d2",
   "metadata": {},
   "source": [
    "## 2. Dataset for a One-Sample T-Test\n",
    "Scenario: A nutritionist claims that a new diet plan results in an average weight loss of 5 kg after 8 weeks. A sample of 15 participants follows the diet, and their weight loss is recorded.\n",
    "Data:\n",
    "\n",
    "Weight loss (in kg) for 15 participants:\n",
    "\n",
    "4.8, 5.2, 4.9, 5.5, 4.3, 5.7, 4.6, 5.0, 4.7, 5.3, 4.4, 5.1, 4.9, 5.4, 4.5\n",
    "\n",
    "\n",
    "Claimed population mean (μ₀): 5 kg"
   ]
  },
  {
   "cell_type": "code",
   "execution_count": 41,
   "id": "07d050f1-a8ba-44ba-872c-e1d5cdfbece9",
   "metadata": {},
   "outputs": [
    {
     "name": "stdout",
     "output_type": "stream",
     "text": [
      "Mean of data: 4.953333333333334\n",
      "std of data: 0.4155317877932646\n",
      "T-Test: -0.4349588362008335\n",
      "p_Value: 0.6702223277503041\n",
      "Fail to reject null hypothesis\n"
     ]
    }
   ],
   "source": [
    "# data-\n",
    "Data = [4.8, 5.2, 4.9, 5.5, 4.3, 5.7, 4.6, 5.0, 4.7, 5.3, 4.4, 5.1, 4.9, 5.4, 4.5]\n",
    "mu = 5\n",
    "alpha = 0.05\n",
    "\n",
    "# mean/std-\n",
    "sample_mean = np.mean(Data)\n",
    "sample_std =  np.std(Data,ddof =1)\n",
    "sample_size = len(Data)\n",
    "print(f'Mean of data: {sample_mean}')  #mean\n",
    "print(f'std of data: {sample_std}')   #std\n",
    "\n",
    "# T-Test (perform one sample ttest)-\n",
    "T_test01,p_value01 = ttest_1samp(Data,mu)\n",
    "print(f'T-Test: {T_test01}')\n",
    "print(f'p_Value: {p_value01}')\n",
    "\n",
    "# decision -\n",
    "if p_value01 < alpha:\n",
    "    print('Reject Null hypothesis')\n",
    "else:\n",
    "    print('Fail to reject null hypothesis')"
   ]
  },
  {
   "cell_type": "markdown",
   "id": "24042e38-6f66-4d8c-a349-096d46cbe8d1",
   "metadata": {},
   "source": [
    "## 3. Dataset for a Z-Test (One-Sample)\n",
    "Scenario: A factory produces light bulbs with a claimed average lifespan of 1000 hours. A quality control team tests a large sample of 50 bulbs to verify this claim. The population standard deviation is known to be 50 hours (based on historical data).\n",
    "Data:\n",
    "\n",
    "Sample mean lifespan: 990 hours\n",
    "Sample size: 50 bulbs\n",
    "Population mean (μ₀): 1000 hours\n",
    "Population standard deviation (σ): 50 hours"
   ]
  },
  {
   "cell_type": "code",
   "execution_count": 59,
   "id": "1b7af84d-7df8-497f-89a2-73b102f49064",
   "metadata": {},
   "outputs": [
    {
     "name": "stdout",
     "output_type": "stream",
     "text": [
      "Standard_error :7.071067811865475\n",
      "Z_Score : -1.4142135623730951\n",
      "P_Value : 0.157299207050285\n",
      "Fail to reject null hypothesis\n"
     ]
    }
   ],
   "source": [
    "# Data-\n",
    "sample_mean = 990\n",
    "population_mean = 1000\n",
    "sample_std = 50\n",
    "sample_size = 50\n",
    "\n",
    "#calculating standard_Error-\n",
    "SE = sample_std/np.sqrt(sample_size)\n",
    "print(f'Standard_error :{SE}')\n",
    "\n",
    "# Z Test-\n",
    "Z_Score = (sample_mean - population_mean)/SE\n",
    "print(f'Z_Score : {Z_Score}')\n",
    "\n",
    "# calculating 2-tailed p-Value-\n",
    "p_value = 2*(1-stats.norm.cdf(abs(Z_Score)))\n",
    "print(f'P_Value : {p_value}')\n",
    "\n",
    "# Decision-\n",
    "alpha = 0.05\n",
    "if p_value < alpha:\n",
    "    print('Reject the null hypothesis')\n",
    "else:\n",
    "    print('Fail to reject null hypothesis')"
   ]
  },
  {
   "cell_type": "markdown",
   "id": "06fb6635-f839-4974-a12c-4cb0ed2fef33",
   "metadata": {},
   "source": [
    "## 4. One-Sample Z-Test (Mean)\n",
    "\n",
    "A company claims that the average life of their bulbs = 1000 hours.\n",
    "A sample of 50 bulbs is taken, mean = 980 hours, population standard deviation = 80 hours.\n",
    "At 5% significance, test whether the company’s claim is valid."
   ]
  },
  {
   "cell_type": "code",
   "execution_count": 66,
   "id": "c5d4a589-023a-4886-8039-a9a45a10192b",
   "metadata": {},
   "outputs": [
    {
     "name": "stdout",
     "output_type": "stream",
     "text": [
      "standard_error : 11.31370849898476\n",
      "Z Test : -1.7677669529663689\n",
      "P_value : 0.0770998717435416\n",
      "Fail to reject null hypothesis\n"
     ]
    }
   ],
   "source": [
    "sample_mean = 980\n",
    "population_mean = 1000\n",
    "sample_std = 80\n",
    "alpha = 0.05\n",
    "sample_size = 50\n",
    "\n",
    "# standard_error-\n",
    "se = sample_std/np.sqrt(sample_size)\n",
    "print(f'standard_error : {se}')\n",
    "\n",
    "# Z-Test-\n",
    "z_test = (sample_mean - population_mean)/se\n",
    "print(f'Z Test : {z_test}')\n",
    "\n",
    "# p_value-\n",
    "p_value = 2*(1-stats.norm.cdf(abs(z_test)))\n",
    "print(f'P_value : {p_value}')\n",
    "\n",
    "# decision-\n",
    "if p_value < alpha:\n",
    "    print('Reject null hypothesis')\n",
    "else:\n",
    "    print('Fail to reject null hypothesis')"
   ]
  },
  {
   "cell_type": "markdown",
   "id": "6fbc1bde-64df-47ce-b43a-3ac0f315fc5c",
   "metadata": {},
   "source": [
    "## 5. Paired T-Test Example: Does a New Study Technique Improve Exam Scores?\n",
    "Context: A school tests a new study technique on 10 students. Each student takes a math exam before and after using the technique for 6 weeks. We want to determine if the technique significantly improves scores.\n",
    "Data (Exam scores out of 100):\n",
    "\n",
    "Before: 75, 68, 82, 70, 78, 72, 80, 76, 74, 79\n",
    "After: 80, 72, 85, 74, 81, 77, 84, 80, 78, 83\n",
    "\n",
    "Hypotheses:\n",
    "\n",
    "Null (H₀): The mean difference in scores (after - before) is zero (μ_d = 0).\n",
    "Alternative (H₁): The mean difference in scores is greater than zero (μ_d > 0, one-tailed test)."
   ]
  },
  {
   "cell_type": "code",
   "execution_count": 84,
   "id": "f815cb16-8acb-47a3-a128-5b14233bbf31",
   "metadata": {},
   "outputs": [
    {
     "name": "stdout",
     "output_type": "stream",
     "text": [
      "Differences : [5, 4, 3, 4, 3, 5, 4, 4, 4, 4]\n",
      "T_Test : 18.973665961010276\n",
      "P_Value : 7.221071158113476e-09\n",
      "Reject null hypothesis\n"
     ]
    }
   ],
   "source": [
    "# data-\n",
    "Before = [75, 68, 82, 70, 78, 72, 80, 76, 74, 79]\n",
    "After = [80, 72, 85, 74, 81, 77, 84, 80, 78, 83]\n",
    "population_mean = 0\n",
    "\n",
    "# differences -\n",
    "differences = [a - b for a, b in zip(After, Before)]\n",
    "print(f'Differences : {differences}')\n",
    "\n",
    "# T_Test / P_Value -\n",
    "T_test,P_Value = ttest_rel(After,Before)\n",
    "print(f'T_Test : {T_test}')\n",
    "print(f'P_Value : {P_Value/2}')\n",
    "\n",
    "# decision-\n",
    "alpha = 0.05\n",
    "if P_Value < alpha:\n",
    "    print('Reject null hypothesis')\n",
    "else:\n",
    "    print('Fail to reject null hypothesis')"
   ]
  },
  {
   "cell_type": "code",
   "execution_count": null,
   "id": "7a7e020c-6724-45e7-9252-cf852863c2a1",
   "metadata": {},
   "outputs": [],
   "source": []
  },
  {
   "cell_type": "code",
   "execution_count": null,
   "id": "6aef32e2-3979-4f25-bcea-ba76fee6b335",
   "metadata": {},
   "outputs": [],
   "source": []
  },
  {
   "cell_type": "code",
   "execution_count": null,
   "id": "981f408f-d9e3-4a0c-9018-9739799a36d1",
   "metadata": {},
   "outputs": [],
   "source": []
  },
  {
   "cell_type": "code",
   "execution_count": null,
   "id": "75bd7e89-8788-44e9-ae28-74ac468e375a",
   "metadata": {},
   "outputs": [],
   "source": []
  },
  {
   "cell_type": "code",
   "execution_count": null,
   "id": "59ef3a68-efea-4442-93ba-8f9b6484ef03",
   "metadata": {},
   "outputs": [],
   "source": []
  },
  {
   "cell_type": "code",
   "execution_count": null,
   "id": "81c25fd8-fd8a-494f-9c2a-d47661b3569a",
   "metadata": {},
   "outputs": [],
   "source": []
  },
  {
   "cell_type": "code",
   "execution_count": null,
   "id": "976c5615-a56d-4122-b4bc-72f93e6e242d",
   "metadata": {},
   "outputs": [],
   "source": []
  },
  {
   "cell_type": "code",
   "execution_count": null,
   "id": "e382d41d-f9c3-4fe4-a05b-08ed67a5330c",
   "metadata": {},
   "outputs": [],
   "source": []
  },
  {
   "cell_type": "code",
   "execution_count": null,
   "id": "daddac46-bd30-4ced-bea1-53b8d81c3324",
   "metadata": {},
   "outputs": [],
   "source": []
  },
  {
   "cell_type": "code",
   "execution_count": null,
   "id": "78a38137-e474-4a1d-bef6-07571b5d6489",
   "metadata": {},
   "outputs": [],
   "source": []
  },
  {
   "cell_type": "code",
   "execution_count": null,
   "id": "9bf4570f-0935-48c1-bdde-dd776da604bd",
   "metadata": {},
   "outputs": [],
   "source": []
  },
  {
   "cell_type": "code",
   "execution_count": null,
   "id": "fef3201c-e7d8-4890-89e7-8837c30d0564",
   "metadata": {},
   "outputs": [],
   "source": []
  },
  {
   "cell_type": "code",
   "execution_count": null,
   "id": "5e3b61f7-caec-4726-ab56-73033f077f7b",
   "metadata": {},
   "outputs": [],
   "source": []
  },
  {
   "cell_type": "code",
   "execution_count": null,
   "id": "3fd19885-9a16-4af5-810b-8e0f91f6ed0c",
   "metadata": {},
   "outputs": [],
   "source": []
  },
  {
   "cell_type": "code",
   "execution_count": null,
   "id": "0cbe91bb-40a1-45c5-8f86-559a2a0e0e5b",
   "metadata": {},
   "outputs": [],
   "source": []
  },
  {
   "cell_type": "code",
   "execution_count": null,
   "id": "7341955c-64d0-4708-8d41-380ff6cfab11",
   "metadata": {},
   "outputs": [],
   "source": []
  },
  {
   "cell_type": "code",
   "execution_count": null,
   "id": "5fadd92b-5257-460e-a8ad-26f1d7e0ac06",
   "metadata": {},
   "outputs": [],
   "source": []
  },
  {
   "cell_type": "code",
   "execution_count": null,
   "id": "e9cd8f74-f169-41d9-9976-5bf1fc4aec2b",
   "metadata": {},
   "outputs": [],
   "source": []
  },
  {
   "cell_type": "code",
   "execution_count": null,
   "id": "0150435d-d426-45d8-9a58-833d21a20fe7",
   "metadata": {},
   "outputs": [],
   "source": []
  },
  {
   "cell_type": "code",
   "execution_count": null,
   "id": "04ae4312-131d-4432-bc97-43ff2dabfc22",
   "metadata": {},
   "outputs": [],
   "source": []
  },
  {
   "cell_type": "code",
   "execution_count": null,
   "id": "cf07c8e5-04c2-4d14-842b-caf69ac25f3d",
   "metadata": {},
   "outputs": [],
   "source": []
  },
  {
   "cell_type": "code",
   "execution_count": null,
   "id": "f24d3155-288e-4a09-a3eb-1edd81e5efb2",
   "metadata": {},
   "outputs": [],
   "source": []
  },
  {
   "cell_type": "code",
   "execution_count": null,
   "id": "86926d5a-e579-4047-b308-292a61160a86",
   "metadata": {},
   "outputs": [],
   "source": []
  },
  {
   "cell_type": "code",
   "execution_count": null,
   "id": "858849b5-3e58-4d47-b7c5-4aa25b1d6238",
   "metadata": {},
   "outputs": [],
   "source": []
  },
  {
   "cell_type": "code",
   "execution_count": null,
   "id": "de32a113-110b-465c-9661-213da4f7cf42",
   "metadata": {},
   "outputs": [],
   "source": []
  },
  {
   "cell_type": "code",
   "execution_count": null,
   "id": "3bf056f1-29b8-439a-bfee-0ffd92a44ed7",
   "metadata": {},
   "outputs": [],
   "source": []
  },
  {
   "cell_type": "code",
   "execution_count": null,
   "id": "c1b4af5d-8689-48bb-80ed-b21fad6eb26a",
   "metadata": {},
   "outputs": [],
   "source": []
  }
 ],
 "metadata": {
  "kernelspec": {
   "display_name": "Python 3 (ipykernel)",
   "language": "python",
   "name": "python3"
  },
  "language_info": {
   "codemirror_mode": {
    "name": "ipython",
    "version": 3
   },
   "file_extension": ".py",
   "mimetype": "text/x-python",
   "name": "python",
   "nbconvert_exporter": "python",
   "pygments_lexer": "ipython3",
   "version": "3.13.3"
  },
  "widgets": {
   "application/vnd.jupyter.widget-state+json": {
    "state": {},
    "version_major": 2,
    "version_minor": 0
   }
  }
 },
 "nbformat": 4,
 "nbformat_minor": 5
}
