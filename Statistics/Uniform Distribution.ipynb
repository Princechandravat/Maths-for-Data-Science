{
 "cells": [
  {
   "cell_type": "code",
   "execution_count": 1,
   "id": "0ab7e87d-7077-49ce-9da4-398aacb6a806",
   "metadata": {},
   "outputs": [],
   "source": [
    "import numpy as np\n",
    "import pandas as pd\n",
    "import matplotlib.pyplot as plt\n",
    "from scipy import stats\n",
    "import seaborn as sns\n",
    "from scipy.stats import uniform\n"
   ]
  },
  {
   "cell_type": "markdown",
   "id": "43b1cd8f-5e6e-4366-a2bb-906d3135ef06",
   "metadata": {},
   "source": [
    "# Uniform Distribution "
   ]
  },
  {
   "cell_type": "code",
   "execution_count": 2,
   "id": "5803518a-0d4b-48ec-ae2a-9bb2d8557f55",
   "metadata": {},
   "outputs": [
    {
     "name": "stdout",
     "output_type": "stream",
     "text": [
      "P(Salary <= 25k) = 0.25\n",
      "P(30k <= Salary <= 35k) = 0.25\n",
      "Expected Salary = 30000.0\n",
      "Variance = 33333333.333333332\n"
     ]
    }
   ],
   "source": [
    "a, b = 20000, 40000   # uniform(20k, 40k)\n",
    "\n",
    "# 1. P(Salary <= 25,000)\n",
    "p1 = uniform.cdf(25000, loc=a, scale=b-a)\n",
    "\n",
    "# 2. P(30,000 <= Salary <= 35,000)\n",
    "p2 = uniform.cdf(35000, loc=a, scale=b-a) - uniform.cdf(30000, loc=a, scale=b-a)\n",
    "\n",
    "# 3. Mean & Variance\n",
    "mean, var = uniform.stats(loc=a, scale=b-a, moments='mv')\n",
    "\n",
    "print(\"P(Salary <= 25k) =\", p1)\n",
    "print(\"P(30k <= Salary <= 35k) =\", p2)\n",
    "print(\"Expected Salary =\", mean)\n",
    "print(\"Variance =\", var)\n"
   ]
  },
  {
   "cell_type": "code",
   "execution_count": 3,
   "id": "3fde2f04-1c81-4cd5-93b9-98eaff001459",
   "metadata": {},
   "outputs": [
    {
     "name": "stdout",
     "output_type": "stream",
     "text": [
      "P(X <= 15) = 0.25\n",
      "P(20 <= X <= 40) = 0.3333333333333333\n"
     ]
    }
   ],
   "source": [
    "a,b=0,60\n",
    "\n",
    "p1=uniform.cdf(15,loc=a,scale=b-a)\n",
    "p2=uniform.cdf(40,loc=a,scale=b-a)-uniform.cdf(20,loc=a,scale=b-a)\n",
    "\n",
    "print(\"P(X <= 15) =\", p1)\n",
    "print(\"P(20 <= X <= 40) =\", p2)"
   ]
  },
  {
   "cell_type": "code",
   "execution_count": 4,
   "id": "5bf8813a-6587-4d11-8208-b0135b27d4dd",
   "metadata": {},
   "outputs": [
    {
     "data": {
      "text/html": [
       "<div>\n",
       "<style scoped>\n",
       "    .dataframe tbody tr th:only-of-type {\n",
       "        vertical-align: middle;\n",
       "    }\n",
       "\n",
       "    .dataframe tbody tr th {\n",
       "        vertical-align: top;\n",
       "    }\n",
       "\n",
       "    .dataframe thead th {\n",
       "        text-align: right;\n",
       "    }\n",
       "</style>\n",
       "<table border=\"1\" class=\"dataframe\">\n",
       "  <thead>\n",
       "    <tr style=\"text-align: right;\">\n",
       "      <th></th>\n",
       "      <th>survived</th>\n",
       "      <th>pclass</th>\n",
       "      <th>sex</th>\n",
       "      <th>age</th>\n",
       "      <th>sibsp</th>\n",
       "      <th>parch</th>\n",
       "      <th>fare</th>\n",
       "      <th>embarked</th>\n",
       "      <th>class</th>\n",
       "      <th>who</th>\n",
       "      <th>adult_male</th>\n",
       "      <th>deck</th>\n",
       "      <th>embark_town</th>\n",
       "      <th>alive</th>\n",
       "      <th>alone</th>\n",
       "    </tr>\n",
       "  </thead>\n",
       "  <tbody>\n",
       "    <tr>\n",
       "      <th>0</th>\n",
       "      <td>0</td>\n",
       "      <td>3</td>\n",
       "      <td>male</td>\n",
       "      <td>22.0</td>\n",
       "      <td>1</td>\n",
       "      <td>0</td>\n",
       "      <td>7.2500</td>\n",
       "      <td>S</td>\n",
       "      <td>Third</td>\n",
       "      <td>man</td>\n",
       "      <td>True</td>\n",
       "      <td>NaN</td>\n",
       "      <td>Southampton</td>\n",
       "      <td>no</td>\n",
       "      <td>False</td>\n",
       "    </tr>\n",
       "    <tr>\n",
       "      <th>1</th>\n",
       "      <td>1</td>\n",
       "      <td>1</td>\n",
       "      <td>female</td>\n",
       "      <td>38.0</td>\n",
       "      <td>1</td>\n",
       "      <td>0</td>\n",
       "      <td>71.2833</td>\n",
       "      <td>C</td>\n",
       "      <td>First</td>\n",
       "      <td>woman</td>\n",
       "      <td>False</td>\n",
       "      <td>C</td>\n",
       "      <td>Cherbourg</td>\n",
       "      <td>yes</td>\n",
       "      <td>False</td>\n",
       "    </tr>\n",
       "    <tr>\n",
       "      <th>2</th>\n",
       "      <td>1</td>\n",
       "      <td>3</td>\n",
       "      <td>female</td>\n",
       "      <td>26.0</td>\n",
       "      <td>0</td>\n",
       "      <td>0</td>\n",
       "      <td>7.9250</td>\n",
       "      <td>S</td>\n",
       "      <td>Third</td>\n",
       "      <td>woman</td>\n",
       "      <td>False</td>\n",
       "      <td>NaN</td>\n",
       "      <td>Southampton</td>\n",
       "      <td>yes</td>\n",
       "      <td>True</td>\n",
       "    </tr>\n",
       "    <tr>\n",
       "      <th>3</th>\n",
       "      <td>1</td>\n",
       "      <td>1</td>\n",
       "      <td>female</td>\n",
       "      <td>35.0</td>\n",
       "      <td>1</td>\n",
       "      <td>0</td>\n",
       "      <td>53.1000</td>\n",
       "      <td>S</td>\n",
       "      <td>First</td>\n",
       "      <td>woman</td>\n",
       "      <td>False</td>\n",
       "      <td>C</td>\n",
       "      <td>Southampton</td>\n",
       "      <td>yes</td>\n",
       "      <td>False</td>\n",
       "    </tr>\n",
       "    <tr>\n",
       "      <th>4</th>\n",
       "      <td>0</td>\n",
       "      <td>3</td>\n",
       "      <td>male</td>\n",
       "      <td>35.0</td>\n",
       "      <td>0</td>\n",
       "      <td>0</td>\n",
       "      <td>8.0500</td>\n",
       "      <td>S</td>\n",
       "      <td>Third</td>\n",
       "      <td>man</td>\n",
       "      <td>True</td>\n",
       "      <td>NaN</td>\n",
       "      <td>Southampton</td>\n",
       "      <td>no</td>\n",
       "      <td>True</td>\n",
       "    </tr>\n",
       "  </tbody>\n",
       "</table>\n",
       "</div>"
      ],
      "text/plain": [
       "   survived  pclass     sex   age  sibsp  parch     fare embarked  class  \\\n",
       "0         0       3    male  22.0      1      0   7.2500        S  Third   \n",
       "1         1       1  female  38.0      1      0  71.2833        C  First   \n",
       "2         1       3  female  26.0      0      0   7.9250        S  Third   \n",
       "3         1       1  female  35.0      1      0  53.1000        S  First   \n",
       "4         0       3    male  35.0      0      0   8.0500        S  Third   \n",
       "\n",
       "     who  adult_male deck  embark_town alive  alone  \n",
       "0    man        True  NaN  Southampton    no  False  \n",
       "1  woman       False    C    Cherbourg   yes  False  \n",
       "2  woman       False  NaN  Southampton   yes   True  \n",
       "3  woman       False    C  Southampton   yes  False  \n",
       "4    man        True  NaN  Southampton    no   True  "
      ]
     },
     "execution_count": 4,
     "metadata": {},
     "output_type": "execute_result"
    }
   ],
   "source": [
    "titanic=sns.load_dataset('titanic')\n",
    "titanic.head()"
   ]
  },
  {
   "cell_type": "code",
   "execution_count": 5,
   "id": "2a571d47-ab2a-421a-82f4-60f025755232",
   "metadata": {},
   "outputs": [
    {
     "name": "stderr",
     "output_type": "stream",
     "text": [
      "C:\\Users\\Prince Chandravat\\venv\\Lib\\site-packages\\pandas\\core\\arraylike.py:399: RuntimeWarning: divide by zero encountered in log\n",
      "  result = getattr(ufunc, method)(*inputs, **kwargs)\n"
     ]
    },
    {
     "data": {
      "image/png": "[encoded data removed]",
      "text/plain": [
       "<Figure size 640x480 with 1 Axes>"
      ]
     },
     "metadata": {},
     "output_type": "display_data"
    }
   ],
   "source": [
    "x=np.log(titanic['fare'])\n",
    "sns.kdeplot(x)\n",
    "plt.grid(True)\n",
    "plt.show()"
   ]
  },
  {
   "cell_type": "code",
   "execution_count": 30,
   "id": "92550636-73c8-4925-b168-3077bdd3459f",
   "metadata": {},
   "outputs": [
    {
     "data": {
      "image/png": "[encoded data removed]",
      "text/plain": [
       "<Figure size 640x480 with 1 Axes>"
      ]
     },
     "metadata": {},
     "output_type": "display_data"
    }
   ],
   "source": [
    "data = uniform.rvs(loc=0, scale=1, size=100)\n",
    "plt.hist(data, bins=10, edgecolor='black', density=True)\n",
    "plt.title(\"Uniform Distribution (0,1)\")\n",
    "plt.xlabel(\"Value\")\n",
    "plt.ylabel(\"Frequency\")\n",
    "plt.show()\n"
   ]
  },
  {
   "cell_type": "code",
   "execution_count": 31,
   "id": "dd466a38-7257-4204-aea2-f52f7c38b2c9",
   "metadata": {},
   "outputs": [
    {
     "name": "stdout",
     "output_type": "stream",
     "text": [
      "PDF at x=3: 0.1\n"
     ]
    }
   ],
   "source": [
    "# parameters\n",
    "a = 0   # start\n",
    "b = 10  # end\n",
    "x = 3   # point\n",
    "\n",
    "# PDF calculation\n",
    "pdf_value = uniform.pdf(x, loc=a, scale=b-a)\n",
    "print(\"PDF at x=3:\", pdf_value)\n"
   ]
  },
  {
   "cell_type": "code",
   "execution_count": 32,
   "id": "b90a69ba-f973-4245-b16c-b2b9b0ae544b",
   "metadata": {},
   "outputs": [
    {
     "name": "stdout",
     "output_type": "stream",
     "text": [
      "0.7\n"
     ]
    }
   ],
   "source": [
    "\n",
    "a=0\n",
    "b=10\n",
    "x=7\n",
    "\n",
    "cdf_value=uniform.cdf(x,loc=a,scale=b)\n",
    "print(cdf_value)"
   ]
  },
  {
   "cell_type": "code",
   "execution_count": 33,
   "id": "6c488127-fdbd-4a4a-9ace-5f7f89df8ee7",
   "metadata": {},
   "outputs": [
    {
     "name": "stdout",
     "output_type": "stream",
     "text": [
      "14.0\n"
     ]
    }
   ],
   "source": [
    "quantile=uniform.ppf(0.9, loc=5, scale=10)\n",
    "print(quantile)"
   ]
  },
  {
   "cell_type": "code",
   "execution_count": 35,
   "id": "d3fdef20-6013-4d25-b22f-1661aad65436",
   "metadata": {},
   "outputs": [
    {
     "name": "stdout",
     "output_type": "stream",
     "text": [
      "0.5\n",
      "0.5\n"
     ]
    }
   ],
   "source": [
    "print(uniform.cdf(4, loc=2, scale=4))      # P(X ≤ 4)\n",
    "print(uniform.cdf(5, loc=2, scale=4) - uniform.cdf(3, loc=2, scale=4))\n"
   ]
  },
  {
   "cell_type": "code",
   "execution_count": 39,
   "id": "301d1104-da69-49e7-846e-27be715e9684",
   "metadata": {},
   "outputs": [
    {
     "name": "stdout",
     "output_type": "stream",
     "text": [
      "33.33333333333333\n"
     ]
    }
   ],
   "source": [
    "a=10\n",
    "b=30\n",
    "x=20\n",
    "\n",
    "prb=uniform.cdf(x,loc=a,scale=b)\n",
    "print(prb*100)"
   ]
  },
  {
   "cell_type": "code",
   "execution_count": 53,
   "id": "c6ba0cf7-5cd5-4258-b96c-43c3679a8daf",
   "metadata": {},
   "outputs": [
    {
     "name": "stdout",
     "output_type": "stream",
     "text": [
      "Probability IQ > 130 = 0.0228\n",
      "minimum iq for to 5% 124.67280440427209\n"
     ]
    }
   ],
   "source": [
    "from scipy.stats import norm\n",
    "mu=100\n",
    "sigma=15\n",
    "\n",
    "# part 1-\n",
    "p_above_130=1-norm.cdf(130,loc=mu,scale=sigma)\n",
    "\n",
    "# part 2-\n",
    "cutoff_top5=norm.ppf(0.95,loc=mu,scale=sigma)\n",
    "\n",
    "print(\"Probability IQ > 130 =\", round(p_above_130, 4))\n",
    "print('minimum iq for to 5%',cutoff_top5)"
   ]
  },
  {
   "cell_type": "code",
   "execution_count": 74,
   "id": "4c46da07-f945-4ee4-9842-7190392f024a",
   "metadata": {},
   "outputs": [
    {
     "data": {
      "image/png": "[encoded data removed]",
      "text/plain": [
       "<Figure size 800x450 with 1 Axes>"
      ]
     },
     "metadata": {},
     "output_type": "display_data"
    }
   ],
   "source": [
    "a=0\n",
    "b=360\n",
    "n=1000\n",
    "spin=np.random.uniform(a,b,size=n)\n",
    "spin\n",
    "\n",
    "plt.figure(figsize=(8, 4.5))\n",
    "plt.hist(spin, bins=12, range=(a, b))\n",
    "plt.title(f\"Spinner simulation: {n} samples from Uniform({a}, {b})\")\n",
    "plt.xlabel(\"Degrees\")\n",
    "plt.ylabel(\"Counts per bin\")\n",
    "plt.grid(axis='y', linestyle='--', linewidth=0.4)\n",
    "plt.tight_layout()\n",
    "plt.show()"
   ]
  },
  {
   "cell_type": "code",
   "execution_count": null,
   "id": "826b502b-ea0a-4708-9f7a-44c9c24a0dc3",
   "metadata": {},
   "outputs": [],
   "source": []
  },
  {
   "cell_type": "code",
   "execution_count": null,
   "id": "09185df3-d1f8-4c93-aea1-06474ec055c3",
   "metadata": {},
   "outputs": [],
   "source": []
  },
  {
   "cell_type": "code",
   "execution_count": null,
   "id": "572a154b-f848-47a4-ad14-776db782a621",
   "metadata": {},
   "outputs": [],
   "source": []
  },
  {
   "cell_type": "code",
   "execution_count": null,
   "id": "c6bc97af-82bc-4abe-a37a-4fc7551e4db8",
   "metadata": {},
   "outputs": [],
   "source": []
  },
  {
   "cell_type": "code",
   "execution_count": null,
   "id": "9871f1ba-948b-423b-a2b7-fbae06c69415",
   "metadata": {},
   "outputs": [],
   "source": []
  },
  {
   "cell_type": "code",
   "execution_count": null,
   "id": "2aa3264b-7cd0-444b-8116-5f4251a64ded",
   "metadata": {},
   "outputs": [],
   "source": []
  },
  {
   "cell_type": "code",
   "execution_count": null,
   "id": "32a45663-a140-4fef-8f17-77df26dcb75c",
   "metadata": {},
   "outputs": [],
   "source": []
  },
  {
   "cell_type": "code",
   "execution_count": null,
   "id": "affbd4e0-aef1-493d-ab8c-6bdf1254746b",
   "metadata": {},
   "outputs": [],
   "source": []
  },
  {
   "cell_type": "code",
   "execution_count": null,
   "id": "2c3b3433-ca28-49fb-88a8-3d04e335c7e0",
   "metadata": {},
   "outputs": [],
   "source": []
  },
  {
   "cell_type": "code",
   "execution_count": null,
   "id": "4dc84bed-e8ba-4944-adcc-f19203912761",
   "metadata": {},
   "outputs": [],
   "source": []
  }
 ],
 "metadata": {
  "kernelspec": {
   "display_name": "Python 3 (ipykernel)",
   "language": "python",
   "name": "python3"
  },
  "language_info": {
   "codemirror_mode": {
    "name": "ipython",
    "version": 3
   },
   "file_extension": ".py",
   "mimetype": "text/x-python",
   "name": "python",
   "nbconvert_exporter": "python",
   "pygments_lexer": "ipython3",
   "version": "3.13.3"
  },
  "widgets": {
   "application/vnd.jupyter.widget-state+json": {
    "state": {},
    "version_major": 2,
    "version_minor": 0
   }
  }
 },
 "nbformat": 4,
 "nbformat_minor": 5
}
